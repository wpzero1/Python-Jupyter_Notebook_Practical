{
 "cells": [
  {
   "cell_type": "code",
   "execution_count": 2,
   "metadata": {},
   "outputs": [],
   "source": [
    "#상자수염 : 데이터의 불균형을 알기 쉽게 표현하는 그래프 ax.boxplot()\n",
    "\n",
    "#용어 설명\n",
    " # 벗어난 값 : 수염의 하부 끝~상부 끝 이외(아웃라이어)\n",
    " # IQR : 사분위 범위\n",
    " # 수염 상부 끝 / 수염 하부 끝\n",
    " # 제1사분위점 : 모든 데이터의 하위부터 1/4(=Q1), 상자의 하부 끝. \n",
    " # 중앙값 : 모든 데이터의 하위부터 1/2로 나눈 값 (=2사분위점)\n",
    " # 제3사분위점 : 모든 데이터의 하위부터 3/4로 나눈 값(=Q3), 상자의 상부 끝\n"
   ]
  },
  {
   "cell_type": "code",
   "execution_count": 5,
   "metadata": {},
   "outputs": [
    {
     "data": {
      "image/png": "[encoded data removed]",
      "text/plain": [
       "<Figure size 432x288 with 1 Axes>"
      ]
     },
     "metadata": {},
     "output_type": "display_data"
    }
   ],
   "source": [
    "import matplotlib.pyplot as plt\n",
    "plt.style.use('ggplot')\n",
    "\n",
    "x = [1,2,3,3,11,20]\n",
    "fig=plt.figure()\n",
    "\n",
    "ax = fig.add_subplot(111)\n",
    "ax.boxplot(x)\n",
    "\n",
    "plt.show()"
   ]
  },
  {
   "cell_type": "code",
   "execution_count": 8,
   "metadata": {},
   "outputs": [
    {
     "data": {
      "image/png": "[encoded data removed]",
      "text/plain": [
       "<Figure size 432x288 with 1 Axes>"
      ]
     },
     "metadata": {},
     "output_type": "display_data"
    }
   ],
   "source": [
    "#여러개의 상자수염 그래프\n",
    "\n",
    "#복수의 리스트 세트\n",
    "x = [[1,2,3,3,11,20], [1,2,9,19,15,16]]\n",
    "labels = ['A','B']\n",
    "\n",
    "fig=plt.figure()\n",
    "ax = fig.add_subplot(111)\n",
    "\n",
    "\n",
    "#데이터와 레이블 지정\n",
    "ax.boxplot(x, labels=labels)\n",
    "plt.show()    "
   ]
  },
  {
   "cell_type": "code",
   "execution_count": 9,
   "metadata": {},
   "outputs": [
    {
     "data": {
      "text/html": [
       "<div>\n",
       "<style scoped>\n",
       "    .dataframe tbody tr th:only-of-type {\n",
       "        vertical-align: middle;\n",
       "    }\n",
       "\n",
       "    .dataframe tbody tr th {\n",
       "        vertical-align: top;\n",
       "    }\n",
       "\n",
       "    .dataframe thead th {\n",
       "        text-align: right;\n",
       "    }\n",
       "</style>\n",
       "<table border=\"1\" class=\"dataframe\">\n",
       "  <thead>\n",
       "    <tr style=\"text-align: right;\">\n",
       "      <th></th>\n",
       "      <th>name</th>\n",
       "      <th>genre</th>\n",
       "      <th>type</th>\n",
       "      <th>episodes</th>\n",
       "      <th>rating</th>\n",
       "      <th>members</th>\n",
       "    </tr>\n",
       "    <tr>\n",
       "      <th>anime_id</th>\n",
       "      <th></th>\n",
       "      <th></th>\n",
       "      <th></th>\n",
       "      <th></th>\n",
       "      <th></th>\n",
       "      <th></th>\n",
       "    </tr>\n",
       "  </thead>\n",
       "  <tbody>\n",
       "    <tr>\n",
       "      <th>32281</th>\n",
       "      <td>Kimi no Na wa.</td>\n",
       "      <td>Drama, Romance, School, Supernatural</td>\n",
       "      <td>Movie</td>\n",
       "      <td>1</td>\n",
       "      <td>9.37</td>\n",
       "      <td>200630</td>\n",
       "    </tr>\n",
       "    <tr>\n",
       "      <th>5114</th>\n",
       "      <td>Fullmetal Alchemist: Brotherhood</td>\n",
       "      <td>Action, Adventure, Drama, Fantasy, Magic, Mili...</td>\n",
       "      <td>TV</td>\n",
       "      <td>64</td>\n",
       "      <td>9.26</td>\n",
       "      <td>793665</td>\n",
       "    </tr>\n",
       "    <tr>\n",
       "      <th>28977</th>\n",
       "      <td>Gintama°</td>\n",
       "      <td>Action, Comedy, Historical, Parody, Samurai, S...</td>\n",
       "      <td>TV</td>\n",
       "      <td>51</td>\n",
       "      <td>9.25</td>\n",
       "      <td>114262</td>\n",
       "    </tr>\n",
       "  </tbody>\n",
       "</table>\n",
       "</div>"
      ],
      "text/plain": [
       "                                      name  \\\n",
       "anime_id                                     \n",
       "32281                       Kimi no Na wa.   \n",
       "5114      Fullmetal Alchemist: Brotherhood   \n",
       "28977                             Gintama°   \n",
       "\n",
       "                                                      genre   type  episodes  \\\n",
       "anime_id                                                                       \n",
       "32281                  Drama, Romance, School, Supernatural  Movie         1   \n",
       "5114      Action, Adventure, Drama, Fantasy, Magic, Mili...     TV        64   \n",
       "28977     Action, Comedy, Historical, Parody, Samurai, S...     TV        51   \n",
       "\n",
       "          rating  members  \n",
       "anime_id                   \n",
       "32281       9.37   200630  \n",
       "5114        9.26   793665  \n",
       "28977       9.25   114262  "
      ]
     },
     "execution_count": 9,
     "metadata": {},
     "output_type": "execute_result"
    }
   ],
   "source": [
    "#상자수염 그래프 활용\n",
    "\n",
    "import os\n",
    "import pandas as pd\n",
    "\n",
    "anime_master_csv = './anime/anime_master.csv'\n",
    "\n",
    "df = pd.read_csv(anime_master_csv, index_col = 'anime_id')\n",
    "df.head(3)"
   ]
  },
  {
   "cell_type": "code",
   "execution_count": 10,
   "metadata": {},
   "outputs": [
    {
     "data": {
      "image/png": "[encoded data removed]",
      "text/plain": [
       "<Figure size 432x288 with 1 Axes>"
      ]
     },
     "metadata": {},
     "output_type": "display_data"
    }
   ],
   "source": [
    "#배급 종별마다 에피소드 수 시각화\n",
    "\n",
    "labels=[]\n",
    "types_list=[]\n",
    "\n",
    "for label, df_per_type in df.groupby('type'):\n",
    "    labels.append(label)\n",
    "    types_list.append(df_per_type['episodes'].tolist())\n",
    "    \n",
    "fig=plt.figure()\n",
    "ax = fig.add_subplot(111)\n",
    "\n",
    "ax.boxplot(types_list, labels=labels)\n",
    "\n",
    "plt.show()"
   ]
  },
  {
   "cell_type": "code",
   "execution_count": 11,
   "metadata": {},
   "outputs": [
    {
     "data": {
      "image/png": "[encoded data removed]",
      "text/plain": [
       "<Figure size 576x432 with 1 Axes>"
      ]
     },
     "metadata": {},
     "output_type": "display_data"
    }
   ],
   "source": [
    "#위의 그래프가 모든 값에 대한 결과이기에, 상세한 내용은 알기 어렵다.\n",
    "#set_ylim()메서드에서 그래프 그리기 범위 지정\n",
    "\n",
    "fig=plt.figure(figsize=(8,6))\n",
    "ax = fig.add_subplot(111)\n",
    "\n",
    "ax.boxplot(types_list, labels=labels)\n",
    "\n",
    "#y축 범위 지정\n",
    "ax.set_ylim(0,100)\n",
    "plt.show()"
   ]
  },
  {
   "cell_type": "code",
   "execution_count": 12,
   "metadata": {},
   "outputs": [
    {
     "data": {
      "text/plain": [
       "count    3330.0\n",
       "mean       37.5\n",
       "std        83.3\n",
       "min         3.0\n",
       "25%        13.0\n",
       "50%        25.0\n",
       "75%        43.0\n",
       "max      1818.0\n",
       "Name: episodes, dtype: float64"
      ]
     },
     "execution_count": 12,
     "metadata": {},
     "output_type": "execute_result"
    }
   ],
   "source": [
    "#사분위점 값을 descirbe()로 확인\n",
    "\n",
    "df['episodes'][df['type'] == 'TV'].describe().round(1)"
   ]
  },
  {
   "cell_type": "code",
   "execution_count": 13,
   "metadata": {},
   "outputs": [],
   "source": [
    "#서식설정. color, facecolor(채움색), linestyle, linewidth, marker(마카), markerfacecolor, markeredgecolor, markersize\n",
    "\n",
    "#우선 데이터 세트 작성\n",
    "import numpy as np\n",
    "\n",
    "np.random.seed(3)\n",
    "dataset = [np.random.normal(20 + mu, 5, 1000)\n",
    "          for mu in range (1,5)]"
   ]
  },
  {
   "cell_type": "code",
   "execution_count": 19,
   "metadata": {},
   "outputs": [],
   "source": [
    "#서식 사전 만들기\n",
    "\n",
    "#벗어난 값 서식 사전\n",
    "\n",
    "flierprop = {'color': '#EC407A',\n",
    "             'marker': 'o',\n",
    "             'markerfacecolor': '#2196F3',\n",
    "             'markeredgecolor': 'white',\n",
    "             'markersize':5,\n",
    "            'linestyle':'None',\n",
    "            'linewidth':0.1}\n",
    "\n",
    "#상자의 서식 사전\n",
    "boxprop = {'color': '#2196F3',\n",
    "            'linestyle':'--',\n",
    "            'linewidth':1}\n",
    "\n",
    "#수염의 서식 사전\n",
    "whiskerprop = {'color': '#2196F3',\n",
    "            'linestyle':'--',\n",
    "            'linewidth':1}\n",
    "\n",
    "#수염 끝단 서식 사전\n",
    "capprop = {'color': '#2196F3',\n",
    "            'linestyle':'--',\n",
    "            'linewidth':1}\n",
    "\n",
    "#중앙값 서식사전\n",
    "medianprop = {'color': '#2196F3',\n",
    "            'linestyle':'--',\n",
    "            'linewidth':2}\n",
    "\n",
    "\n",
    "#평균값 서식사전\n",
    "\n",
    "meanprop = {'color': '#2196F3',\n",
    "             'marker': '^',\n",
    "             'markerfacecolor': '#2196F3',\n",
    "             'markeredgecolor': 'white',\n",
    "             'markersize':10,\n",
    "            'linestyle':'None',\n",
    "            'linewidth':1}"
   ]
  },
  {
   "cell_type": "code",
   "execution_count": 20,
   "metadata": {},
   "outputs": [
    {
     "data": {
      "image/png": "[encoded data removed]",
      "text/plain": [
       "<Figure size 432x288 with 1 Axes>"
      ]
     },
     "metadata": {},
     "output_type": "display_data"
    }
   ],
   "source": [
    "#그리기\n",
    "\n",
    "fig = plt.figure()\n",
    "ax = fig.add_subplot(111)\n",
    "\n",
    "ax.boxplot(\n",
    "     dataset,\n",
    "     patch_artist = 'Patch', #서식을 설정하는 경우 Patch 선택\n",
    "     labels=['A','B','C','D'], #항목 레이블\n",
    "     showmeans=True, #평균값 그리기\n",
    "     flierprops=flierprop, #벗어난 값 서식 설정\n",
    "     boxprops=boxprop, #상자 서식 설정\n",
    "     whiskerprops=whiskerprop, #수염 서식\n",
    "     capprops=capprop, #수염 끝단\n",
    "     medianprops=medianprop, #중앙값 서식\n",
    "     meanprops=meanprop #평균값 서식\n",
    ")\n",
    "    \n",
    "plt.show()"
   ]
  },
  {
   "cell_type": "code",
   "execution_count": 23,
   "metadata": {},
   "outputs": [
    {
     "data": {
      "image/png": "[encoded data removed]",
      "text/plain": [
       "<Figure size 432x288 with 1 Axes>"
      ]
     },
     "metadata": {},
     "output_type": "display_data"
    }
   ],
   "source": [
    "#상자마다 서식 설정 가능하다. set_ 접두사 이용\n",
    "\n",
    "fig = plt.figure()\n",
    "ax = fig.add_subplot(111)\n",
    "\n",
    "bp = ax.boxplot(dataset,patch_artist = 'Patch', labels=['A','B','C','D'], meanline=True, showmeans=True)\n",
    "\n",
    "#컬러세트\n",
    "colors1 = ['#2196F3', '#43A047', '#FBC02D', '#FB8C00']\n",
    "colors2 = ['#BBDEFB', '#C8E6C9', '#FFF9C4', '#FFE0B2']\n",
    "#위 아래로 나뉘어진 요소에 설정하기 위해 용도 수열\n",
    "\n",
    "n = [0, 0, 1, 1, 2, 2, 3, 3]\n",
    "\n",
    "#서식 설정\n",
    "#상자와 벗어난 값, 중앙값 서식\n",
    "for params in zip(bp['boxes'],\n",
    "                 bp['fliers'],\n",
    "                 bp['medians'],\n",
    "                   colors1,\n",
    "                   colors2):\n",
    "    \n",
    "    bpb, bpf, med, color1, color2 = params\n",
    "    #상자 서식 설정\n",
    "    bpb.set_color(color1)\n",
    "    bpb.set_facecolor(color2)\n",
    "    bpb.set_linewidth(2)\n",
    "    \n",
    "    #벗어난 값 서식\n",
    "    bpf.set(marker = '^', color=color2)\n",
    "    bpf.set_markeredgecolor(\"white\")\n",
    "    bpf.set_markerfacecolor(color1)\n",
    "    \n",
    "    #중앙값\n",
    "    med.set_color(color1)\n",
    "    med.set_linewidth(2)\n",
    "    \n",
    "    #수염과 수염 끝단 서식\n",
    "    for bpc, bpw, m in zip(bp['caps'], bp['whiskers'], n):\n",
    "        bpc.set_color(colors1[m])\n",
    "        bpc.set_linewidth(2)\n",
    "        bpw.set_color(colors1[m])\n",
    "        bpw.set_linewidth(2)\n",
    "        \n",
    "    #평균값 서식\n",
    "    for mean, color2 in zip(bp['means'], colors2):\n",
    "        mean.set_color('grey')\n",
    "        mean.set_linewidth(2)\n",
    "        mean.set_linestyle('--')\n",
    "        \n",
    "plt.show()"
   ]
  },
  {
   "cell_type": "code",
   "execution_count": null,
   "metadata": {},
   "outputs": [],
   "source": []
  },
  {
   "cell_type": "code",
   "execution_count": null,
   "metadata": {},
   "outputs": [],
   "source": []
  },
  {
   "cell_type": "code",
   "execution_count": null,
   "metadata": {},
   "outputs": [],
   "source": []
  }
 ],
 "metadata": {
  "kernelspec": {
   "display_name": "Python 3",
   "language": "python",
   "name": "python3"
  },
  "language_info": {
   "codemirror_mode": {
    "name": "ipython",
    "version": 3
   },
   "file_extension": ".py",
   "mimetype": "text/x-python",
   "name": "python",
   "nbconvert_exporter": "python",
   "pygments_lexer": "ipython3",
   "version": "3.6.5"
  }
 },
 "nbformat": 4,
 "nbformat_minor": 2
}
