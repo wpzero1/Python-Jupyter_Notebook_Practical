{
 "cells": [
  {
   "cell_type": "code",
   "execution_count": 4,
   "metadata": {},
   "outputs": [
    {
     "data": {
      "image/png": "[encoded data removed]",
      "text/plain": [
       "<Figure size 432x288 with 1 Axes>"
      ]
     },
     "metadata": {},
     "output_type": "display_data"
    }
   ],
   "source": [
    "#한글폰트 이용에 대해\n",
    "\n",
    "#설치 후에,\n",
    "\n",
    "import os\n",
    "import numpy as np\n",
    "from matplotlib import pyplot as plt, font_manager\n",
    "\n",
    "#폰트 캐쉬 재구축\n",
    "font_manager._rebuild()\n",
    "\n",
    "if os.name == 'nt':\n",
    "    #OS가 Windows인 경우 아래 사용 가능\n",
    "    font_dir = font_manager.win32FontDirectory()\n",
    "else:\n",
    "    #OS가 Mac인 경우 디렉터리 지정\n",
    "    \n",
    "    font_dir = '/Users/pydata/Library/Fonts/'\n",
    "\n",
    "font_path = os.path.join(font_dir, 'SourceHanSansK-Regular.otf')\n",
    "font = font_manager.FontProperties(fname=font_path, size=14)\n",
    "\n",
    "#그래프 작성\n",
    "np.random.seed(0)\n",
    "x = range(5)\n",
    "\n",
    "y = 10 + 5 * np.random.randn(5)\n",
    "fig = plt.figure()\n",
    "ax = fig.add_subplot(111)\n",
    "\n",
    "#여기서 fontproperties 지정\n",
    "ax.set_title('한국어를 지정한 타이틀', fontproperties=font)\n",
    "ax.bar(x,y)\n",
    "\n",
    "plt.show()"
   ]
  },
  {
   "cell_type": "code",
   "execution_count": 7,
   "metadata": {},
   "outputs": [
    {
     "data": {
      "image/png": "[encoded data removed]",
      "text/plain": [
       "<Figure size 432x288 with 1 Axes>"
      ]
     },
     "metadata": {},
     "output_type": "display_data"
    }
   ],
   "source": [
    "# 폰트 일괄 설정\n",
    "\n",
    "import os\n",
    "import numpy as np\n",
    "from matplotlib import pyplot as plt, rcParams\n",
    "\n",
    "#여기에 지정된 설정은 초기 설정 값\n",
    "rcParams['font.sans-serif'] = 'Source Han Sans K'\n",
    "rcParams['font.weight'] = 'regular'\n",
    "rcParams['axes.titlesize'] = 15\n",
    "rcParams['ytick.labelsize'] = 12\n",
    "rcParams['xtick.labelsize'] = 12\n",
    "\n",
    "np.random.seed(0)\n",
    "\n",
    "x=range(5)\n",
    "y= 10 + 5 * np.random.randn(5)\n",
    "\n",
    "fig = plt.figure()\n",
    "ax = fig.add_subplot(111)\n",
    "\n",
    "#여기에서 폰트 정보 지정\n",
    "ax.set_title('한국어를 지정한 타이틀')\n",
    "ax.bar(x,y)\n",
    "plt.show()"
   ]
  },
  {
   "cell_type": "code",
   "execution_count": 9,
   "metadata": {},
   "outputs": [
    {
     "data": {
      "text/plain": [
       "'C:\\\\Users\\\\ysang\\\\Anaconda3\\\\lib\\\\site-packages\\\\matplotlib\\\\mpl-data\\\\matplotlibrc'"
      ]
     },
     "execution_count": 9,
     "metadata": {},
     "output_type": "execute_result"
    }
   ],
   "source": [
    "#아니면, 한글폰트를 설정한 파일로 지정\n",
    "\n",
    "from matplotlib import matplotlib_fname\n",
    "matplotlib_fname()"
   ]
  },
  {
   "cell_type": "code",
   "execution_count": 10,
   "metadata": {},
   "outputs": [
    {
     "data": {
      "text/plain": [
       "'matplotlibrc'"
      ]
     },
     "execution_count": 10,
     "metadata": {},
     "output_type": "execute_result"
    }
   ],
   "source": [
    "#파일 복사\n",
    "\n",
    "import shutil\n",
    "from matplotlib import matplotlib_fname\n",
    "\n",
    "#설정파일 복사\n",
    "shutil.copyfile(matplotlib_fname(), 'matplotlibrc')\n",
    "#파일 검색으로 찾아서 208번째 부근 줄,\n",
    "# font.sans-serif : 여기에다가 Source Han Sans K 를 써준다. 뒤에껀 그대로 유지, 맨앞 주석 제거.\n"
   ]
  },
  {
   "cell_type": "code",
   "execution_count": 11,
   "metadata": {},
   "outputs": [
    {
     "ename": "NameError",
     "evalue": "name 'matplotlibrc' is not defined",
     "output_type": "error",
     "traceback": [
      "\u001b[1;31m---------------------------------------------------------------------------\u001b[0m",
      "\u001b[1;31mNameError\u001b[0m                                 Traceback (most recent call last)",
      "\u001b[1;32m<ipython-input-11-508addfaffc0>\u001b[0m in \u001b[0;36m<module>\u001b[1;34m()\u001b[0m\n\u001b[1;32m----> 1\u001b[1;33m \u001b[0mmatplotlibrc\u001b[0m\u001b[1;33m\u001b[0m\u001b[0m\n\u001b[0m",
      "\u001b[1;31mNameError\u001b[0m: name 'matplotlibrc' is not defined"
     ]
    }
   ],
   "source": []
  }
 ],
 "metadata": {
  "kernelspec": {
   "display_name": "Python 3",
   "language": "python",
   "name": "python3"
  },
  "language_info": {
   "codemirror_mode": {
    "name": "ipython",
    "version": 3
   },
   "file_extension": ".py",
   "mimetype": "text/x-python",
   "name": "python",
   "nbconvert_exporter": "python",
   "pygments_lexer": "ipython3",
   "version": "3.6.5"
  }
 },
 "nbformat": 4,
 "nbformat_minor": 2
}
